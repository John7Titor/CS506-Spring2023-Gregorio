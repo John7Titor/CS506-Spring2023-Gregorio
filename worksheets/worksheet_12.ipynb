{
 "cells": [
  {
   "attachments": {},
   "cell_type": "markdown",
   "metadata": {},
   "source": [
    "# Worksheet 12\n",
    "\n",
    "Name:  Youheng Yang\\\n",
    "UID: U45006780\n",
    "\n",
    "### Topics\n",
    "\n",
    "- Naive Bayes\n",
    "- Model Evaluation\n",
    "\n",
    "### Naive Bayes\n",
    "\n",
    "| Attribute A | Attribute B | Attribute C | Class |\n",
    "|-------------|-------------|-------------|-------|\n",
    "| Yes         | Single      | High        | No    |\n",
    "| No          | Married     | Mid         | No    |\n",
    "| No          | Single      | Low         | No    |\n",
    "| Yes         | Married     | High        | No    |\n",
    "| No          | Divorced    | Mid         | Yes   |\n",
    "| No          | Married     | Low         | No    |\n",
    "| Yes         | Divorced    | High        | No    |\n",
    "| No          | Single      | Mid         | Yes   |\n",
    "| No          | Married     | Low         | No    |\n",
    "| No          | Single      | Mid         | Yes   |\n",
    "\n",
    "a) Compute the following probabilities:\n",
    "\n",
    "- P(Attribute A = Yes | Class = No)\n",
    "- P(Attribute B = Divorced | Class = Yes)\n",
    "- P(Attribute C = High | Class = No)\n",
    "- P(Attribute C = Mid | Class = Yes)"
   ]
  },
  {
   "attachments": {},
   "cell_type": "markdown",
   "metadata": {},
   "source": [
    "- $\\frac{3}{7}$\n",
    "- $\\frac{1}{3}$\n",
    "- $\\frac{3}{7}$\n",
    "- $1$"
   ]
  },
  {
   "cell_type": "markdown",
   "metadata": {},
   "source": [
    "b) Classify the following unseen records:\n",
    "\n",
    "- (Yes, Married, Mid)\n",
    "- (No, Divorced, High)\n",
    "- (No, Single, High)\n",
    "- (No, Divorced, Low)"
   ]
  },
  {
   "attachments": {},
   "cell_type": "markdown",
   "metadata": {},
   "source": [
    "P(Class = No) = $\\frac{7}{10}$; P(Class = Yes) = $\\frac{3}{10}$\n",
    "- (Yes, Married, Mid): **No**\n",
    "  - P(A = Yes | Class = No) = $\\frac{3}{7}$; P(A = Yes | Class = Yes) = $0$\n",
    "  - P(B = Married | Class = No) = $\\frac{4}{7}$; P(B = Married | Class = Yes) = $0$\n",
    "  - P(C = Mid | Class = No) = $\\frac{1}{7}$; P(C = Mid | Class = Yes) = $1$\n",
    "- (No, Divorced, High): **No**\n",
    "  - P(A = No | Class = No) = $\\frac{4}{7}$; P(A = No | Class = Yes) = $1$\n",
    "  - P(B = Divorced | Class = No) = $\\frac{1}{7}$; P(B = Divorced | Class = Yes) = $\\frac{1}{3}$\n",
    "  - P(C = High | Class = No) = $\\frac{3}{7}$; P(C = High | Class = Yes) = $0$\n",
    "- (No, Single, High): **No**\n",
    "  - P(A = No | Class = No) = $\\frac{4}{7}$; P(A = No | Class = Yes) = $1$\n",
    "  - P(B = Single | Class = No) = $\\frac{2}{7}$; P(B = Single | Class = Yes) = $\\frac{2}{3}$\n",
    "  - P(C = High | Class = No) = $\\frac{3}{7}$; P(C = High | Class = Yes) = $0$\n",
    "- (No, Divorced, Low): **No**\n",
    "  - P(A = No | Class = No) = $\\frac{4}{7}$; P(A = No | Class = Yes) = $1$\n",
    "  - P(B = Divorced | Class = No) = $\\frac{1}{7}$; P(B = Divorced | Class = Yes) = $\\frac{1}{3}$\n",
    "  - P(C = Low | Class = No) = $\\frac{3}{7}$; P(C = Low | Class = Yes) = $0$"
   ]
  },
  {
   "cell_type": "markdown",
   "metadata": {},
   "source": [
    "### Model Evaluation\n",
    "\n",
    "a) Write a function to generate the confusion matrix for a list of actual classes and a list of predicted classes"
   ]
  },
  {
   "cell_type": "code",
   "execution_count": 2,
   "metadata": {},
   "outputs": [
    {
     "name": "stdout",
     "output_type": "stream",
     "text": [
      "[[2, 3], [4, 1]]\n"
     ]
    }
   ],
   "source": [
    "actual_class = [\"Yes\", \"No\", \"No\", \"Yes\", \"No\", \"No\", \"Yes\", \"No\", \"No\", \"No\"]\n",
    "predicted_class = [\"Yes\", \"No\", \"Yes\", \"No\", \"No\", \"No\", \"Yes\", \"Yes\", \"Yes\", \"No\"]\n",
    "\n",
    "def confusion_matrix(actual, predicted):\n",
    "    tp = 0\n",
    "    tn = 0\n",
    "    fp = 0\n",
    "    fn = 0\n",
    "    for i in range(len(actual)):\n",
    "        if actual[i] == predicted[i]:\n",
    "            if actual[i] == \"Yes\":\n",
    "                tp += 1\n",
    "            else:\n",
    "                fp += 1\n",
    "        else:\n",
    "            if actual[i] == \"Yes\":\n",
    "                tn += 1\n",
    "            else:\n",
    "                fn += 1\n",
    "    return [[tp, fn], [fp, tn]]\n",
    "\n",
    "print(confusion_matrix(actual_class, predicted_class))"
   ]
  },
  {
   "cell_type": "markdown",
   "metadata": {},
   "source": [
    "b) Assume you have the following Cost Matrix:\n",
    "\n",
    "|            | predicted = Y | predicted = N |\n",
    "|------------|---------------|---------------|\n",
    "| actual = Y |       -1      |       5       |\n",
    "| actual = N |        10     |       0       |\n",
    "\n",
    "What is the cost of the above classification?"
   ]
  },
  {
   "attachments": {},
   "cell_type": "markdown",
   "metadata": {},
   "source": [
    "53"
   ]
  },
  {
   "cell_type": "markdown",
   "metadata": {},
   "source": [
    "c) Write a function that takes in the actual values, the predictions, and a cost matrix and outputs a cost. Test it on the above example."
   ]
  },
  {
   "cell_type": "code",
   "execution_count": 3,
   "metadata": {},
   "outputs": [
    {
     "data": {
      "text/plain": [
       "53"
      ]
     },
     "execution_count": 3,
     "metadata": {},
     "output_type": "execute_result"
    }
   ],
   "source": [
    "def cal_cost(actual, predicted, cost_matrix):\n",
    "    matrix = confusion_matrix(actual, predicted)\n",
    "    cost = 0\n",
    "    for i in range(len(cost_matrix)):\n",
    "        for j in range(len(matrix)):\n",
    "            cost += cost_matrix[i][j] * matrix[i][j]\n",
    "    return cost\n",
    "\n",
    "cost_matrix = [[-1, 5], [10, 0]]\n",
    "cal_cost(actual_class, predicted_class, cost_matrix)"
   ]
  },
  {
   "attachments": {},
   "cell_type": "markdown",
   "metadata": {},
   "source": [
    "d) What is the difference between a testing set and a validation set?"
   ]
  },
  {
   "attachments": {},
   "cell_type": "markdown",
   "metadata": {},
   "source": [
    "- The testing set is used to evaluate the performance of a model after training with the training set, and normally it's used once.\n",
    "- The validation set is used to tune the parameters and evaluate the performace of the model with different paris of parameters, and it can be used mutiply times."
   ]
  },
  {
   "attachments": {},
   "cell_type": "markdown",
   "metadata": {},
   "source": [
    "e) What are some things you can do to handle the case where you have a highly imbalanced dataset (i.e. there are way more of one class than another). Describe both how you can provide better visibility into the failures of the model and how you can set your model training up for success."
   ]
  },
  {
   "attachments": {},
   "cell_type": "markdown",
   "metadata": {},
   "source": [
    "To provide better visibility, I can use bagging so that I can build some classifiers on each bootstrapped sample to reduce overfitting.\n",
    "To train up for success, I can use boosting and have more samples that were misclassified before. Thus, I can decreases bias and improve the accuracy. "
   ]
  }
 ],
 "metadata": {
  "kernelspec": {
   "display_name": "Python 3",
   "language": "python",
   "name": "python3"
  },
  "language_info": {
   "codemirror_mode": {
    "name": "ipython",
    "version": 3
   },
   "file_extension": ".py",
   "mimetype": "text/x-python",
   "name": "python",
   "nbconvert_exporter": "python",
   "pygments_lexer": "ipython3",
   "version": "3.11.2"
  },
  "orig_nbformat": 4,
  "vscode": {
   "interpreter": {
    "hash": "e7370f93d1d0cde622a1f8e1c04877d8463912d04d973331ad4851f04de6915a"
   }
  }
 },
 "nbformat": 4,
 "nbformat_minor": 2
}
